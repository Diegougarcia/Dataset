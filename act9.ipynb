{
  "nbformat": 4,
  "nbformat_minor": 0,
  "metadata": {
    "colab": {
      "provenance": [],
      "authorship_tag": "ABX9TyMlfsuZcX+edMpvP5o7Ibzd",
      "include_colab_link": true
    },
    "kernelspec": {
      "name": "python3",
      "display_name": "Python 3"
    },
    "language_info": {
      "name": "python"
    }
  },
  "cells": [
    {
      "cell_type": "markdown",
      "metadata": {
        "id": "view-in-github",
        "colab_type": "text"
      },
      "source": [
        "<a href=\"https://colab.research.google.com/github/Diegougarcia/Dataset/blob/main/act9.ipynb\" target=\"_parent\"><img src=\"https://colab.research.google.com/assets/colab-badge.svg\" alt=\"Open In Colab\"/></a>"
      ]
    },
    {
      "cell_type": "code",
      "source": [
        "import pandas as pd\n",
        "import numpy as np\n",
        "import matplotlib.pyplot as plt"
      ],
      "metadata": {
        "id": "tfcfOG-dPz9a"
      },
      "execution_count": 92,
      "outputs": []
    },
    {
      "cell_type": "code",
      "source": [
        "data = pd.read_csv(\"https://raw.githubusercontent.com/Diegougarcia/Dataset/main/antropometria-dataset-1%20(2).csv\")\n",
        "data.head()\n"
      ],
      "metadata": {
        "colab": {
          "base_uri": "https://localhost:8080/",
          "height": 317
        },
        "id": "BRg6SfgrPC98",
        "outputId": "14f8cefb-714e-4182-8bdd-04ead7ca037d"
      },
      "execution_count": 93,
      "outputs": [
        {
          "output_type": "execute_result",
          "data": {
            "text/plain": [
              "    folio  intp  entidad          desc_ent  sexo  edad  meses   peso  ropa  \\\n",
              "0  210295     2       21            PUEBLA     2    38      8  73.70     2   \n",
              "1  101655     3       10           DURANGO     2    11     11  35.65     2   \n",
              "2   10287     6        1    AGUASCALIENTES     2    18      8  54.80     1   \n",
              "3   91526     4        9  DISTRITO FEDERAL     1    10      8  33.40     2   \n",
              "4  210939     3       21            PUEBLA     2    19      3  97.95     2   \n",
              "\n",
              "   talla  ... hpresion tbrazo  htension  PrimaryLast  code_upm  est_dis  \\\n",
              "0  146.4  ...    16:30      2     16:35            1     R2101        5   \n",
              "1  145.1  ...    15:25      3     15:25            1     M1041        1   \n",
              "2  162.0  ...     9:40      1      9:40            1     M0108        5   \n",
              "3  146.5  ...     7:40      3      7:45            1     M0931        4   \n",
              "4  161.0  ...     6:00      2      6:00            1     M2123        5   \n",
              "\n",
              "  est_urb est_marg       pondef  est_var  \n",
              "0       3        1  3470.002176      215  \n",
              "1       1        1   417.946672      101  \n",
              "2       3        1   472.980811       15  \n",
              "3       3        2  1832.581391       94  \n",
              "4       3        1  7622.066564      215  \n",
              "\n",
              "[5 rows x 26 columns]"
            ],
            "text/html": [
              "\n",
              "  <div id=\"df-dca6e969-7de4-4141-ae1c-6ab62e0f1067\">\n",
              "    <div class=\"colab-df-container\">\n",
              "      <div>\n",
              "<style scoped>\n",
              "    .dataframe tbody tr th:only-of-type {\n",
              "        vertical-align: middle;\n",
              "    }\n",
              "\n",
              "    .dataframe tbody tr th {\n",
              "        vertical-align: top;\n",
              "    }\n",
              "\n",
              "    .dataframe thead th {\n",
              "        text-align: right;\n",
              "    }\n",
              "</style>\n",
              "<table border=\"1\" class=\"dataframe\">\n",
              "  <thead>\n",
              "    <tr style=\"text-align: right;\">\n",
              "      <th></th>\n",
              "      <th>folio</th>\n",
              "      <th>intp</th>\n",
              "      <th>entidad</th>\n",
              "      <th>desc_ent</th>\n",
              "      <th>sexo</th>\n",
              "      <th>edad</th>\n",
              "      <th>meses</th>\n",
              "      <th>peso</th>\n",
              "      <th>ropa</th>\n",
              "      <th>talla</th>\n",
              "      <th>...</th>\n",
              "      <th>hpresion</th>\n",
              "      <th>tbrazo</th>\n",
              "      <th>htension</th>\n",
              "      <th>PrimaryLast</th>\n",
              "      <th>code_upm</th>\n",
              "      <th>est_dis</th>\n",
              "      <th>est_urb</th>\n",
              "      <th>est_marg</th>\n",
              "      <th>pondef</th>\n",
              "      <th>est_var</th>\n",
              "    </tr>\n",
              "  </thead>\n",
              "  <tbody>\n",
              "    <tr>\n",
              "      <th>0</th>\n",
              "      <td>210295</td>\n",
              "      <td>2</td>\n",
              "      <td>21</td>\n",
              "      <td>PUEBLA</td>\n",
              "      <td>2</td>\n",
              "      <td>38</td>\n",
              "      <td>8</td>\n",
              "      <td>73.70</td>\n",
              "      <td>2</td>\n",
              "      <td>146.4</td>\n",
              "      <td>...</td>\n",
              "      <td>16:30</td>\n",
              "      <td>2</td>\n",
              "      <td>16:35</td>\n",
              "      <td>1</td>\n",
              "      <td>R2101</td>\n",
              "      <td>5</td>\n",
              "      <td>3</td>\n",
              "      <td>1</td>\n",
              "      <td>3470.002176</td>\n",
              "      <td>215</td>\n",
              "    </tr>\n",
              "    <tr>\n",
              "      <th>1</th>\n",
              "      <td>101655</td>\n",
              "      <td>3</td>\n",
              "      <td>10</td>\n",
              "      <td>DURANGO</td>\n",
              "      <td>2</td>\n",
              "      <td>11</td>\n",
              "      <td>11</td>\n",
              "      <td>35.65</td>\n",
              "      <td>2</td>\n",
              "      <td>145.1</td>\n",
              "      <td>...</td>\n",
              "      <td>15:25</td>\n",
              "      <td>3</td>\n",
              "      <td>15:25</td>\n",
              "      <td>1</td>\n",
              "      <td>M1041</td>\n",
              "      <td>1</td>\n",
              "      <td>1</td>\n",
              "      <td>1</td>\n",
              "      <td>417.946672</td>\n",
              "      <td>101</td>\n",
              "    </tr>\n",
              "    <tr>\n",
              "      <th>2</th>\n",
              "      <td>10287</td>\n",
              "      <td>6</td>\n",
              "      <td>1</td>\n",
              "      <td>AGUASCALIENTES</td>\n",
              "      <td>2</td>\n",
              "      <td>18</td>\n",
              "      <td>8</td>\n",
              "      <td>54.80</td>\n",
              "      <td>1</td>\n",
              "      <td>162.0</td>\n",
              "      <td>...</td>\n",
              "      <td>9:40</td>\n",
              "      <td>1</td>\n",
              "      <td>9:40</td>\n",
              "      <td>1</td>\n",
              "      <td>M0108</td>\n",
              "      <td>5</td>\n",
              "      <td>3</td>\n",
              "      <td>1</td>\n",
              "      <td>472.980811</td>\n",
              "      <td>15</td>\n",
              "    </tr>\n",
              "    <tr>\n",
              "      <th>3</th>\n",
              "      <td>91526</td>\n",
              "      <td>4</td>\n",
              "      <td>9</td>\n",
              "      <td>DISTRITO FEDERAL</td>\n",
              "      <td>1</td>\n",
              "      <td>10</td>\n",
              "      <td>8</td>\n",
              "      <td>33.40</td>\n",
              "      <td>2</td>\n",
              "      <td>146.5</td>\n",
              "      <td>...</td>\n",
              "      <td>7:40</td>\n",
              "      <td>3</td>\n",
              "      <td>7:45</td>\n",
              "      <td>1</td>\n",
              "      <td>M0931</td>\n",
              "      <td>4</td>\n",
              "      <td>3</td>\n",
              "      <td>2</td>\n",
              "      <td>1832.581391</td>\n",
              "      <td>94</td>\n",
              "    </tr>\n",
              "    <tr>\n",
              "      <th>4</th>\n",
              "      <td>210939</td>\n",
              "      <td>3</td>\n",
              "      <td>21</td>\n",
              "      <td>PUEBLA</td>\n",
              "      <td>2</td>\n",
              "      <td>19</td>\n",
              "      <td>3</td>\n",
              "      <td>97.95</td>\n",
              "      <td>2</td>\n",
              "      <td>161.0</td>\n",
              "      <td>...</td>\n",
              "      <td>6:00</td>\n",
              "      <td>2</td>\n",
              "      <td>6:00</td>\n",
              "      <td>1</td>\n",
              "      <td>M2123</td>\n",
              "      <td>5</td>\n",
              "      <td>3</td>\n",
              "      <td>1</td>\n",
              "      <td>7622.066564</td>\n",
              "      <td>215</td>\n",
              "    </tr>\n",
              "  </tbody>\n",
              "</table>\n",
              "<p>5 rows × 26 columns</p>\n",
              "</div>\n",
              "      <button class=\"colab-df-convert\" onclick=\"convertToInteractive('df-dca6e969-7de4-4141-ae1c-6ab62e0f1067')\"\n",
              "              title=\"Convert this dataframe to an interactive table.\"\n",
              "              style=\"display:none;\">\n",
              "        \n",
              "  <svg xmlns=\"http://www.w3.org/2000/svg\" height=\"24px\"viewBox=\"0 0 24 24\"\n",
              "       width=\"24px\">\n",
              "    <path d=\"M0 0h24v24H0V0z\" fill=\"none\"/>\n",
              "    <path d=\"M18.56 5.44l.94 2.06.94-2.06 2.06-.94-2.06-.94-.94-2.06-.94 2.06-2.06.94zm-11 1L8.5 8.5l.94-2.06 2.06-.94-2.06-.94L8.5 2.5l-.94 2.06-2.06.94zm10 10l.94 2.06.94-2.06 2.06-.94-2.06-.94-.94-2.06-.94 2.06-2.06.94z\"/><path d=\"M17.41 7.96l-1.37-1.37c-.4-.4-.92-.59-1.43-.59-.52 0-1.04.2-1.43.59L10.3 9.45l-7.72 7.72c-.78.78-.78 2.05 0 2.83L4 21.41c.39.39.9.59 1.41.59.51 0 1.02-.2 1.41-.59l7.78-7.78 2.81-2.81c.8-.78.8-2.07 0-2.86zM5.41 20L4 18.59l7.72-7.72 1.47 1.35L5.41 20z\"/>\n",
              "  </svg>\n",
              "      </button>\n",
              "      \n",
              "  <style>\n",
              "    .colab-df-container {\n",
              "      display:flex;\n",
              "      flex-wrap:wrap;\n",
              "      gap: 12px;\n",
              "    }\n",
              "\n",
              "    .colab-df-convert {\n",
              "      background-color: #E8F0FE;\n",
              "      border: none;\n",
              "      border-radius: 50%;\n",
              "      cursor: pointer;\n",
              "      display: none;\n",
              "      fill: #1967D2;\n",
              "      height: 32px;\n",
              "      padding: 0 0 0 0;\n",
              "      width: 32px;\n",
              "    }\n",
              "\n",
              "    .colab-df-convert:hover {\n",
              "      background-color: #E2EBFA;\n",
              "      box-shadow: 0px 1px 2px rgba(60, 64, 67, 0.3), 0px 1px 3px 1px rgba(60, 64, 67, 0.15);\n",
              "      fill: #174EA6;\n",
              "    }\n",
              "\n",
              "    [theme=dark] .colab-df-convert {\n",
              "      background-color: #3B4455;\n",
              "      fill: #D2E3FC;\n",
              "    }\n",
              "\n",
              "    [theme=dark] .colab-df-convert:hover {\n",
              "      background-color: #434B5C;\n",
              "      box-shadow: 0px 1px 3px 1px rgba(0, 0, 0, 0.15);\n",
              "      filter: drop-shadow(0px 1px 2px rgba(0, 0, 0, 0.3));\n",
              "      fill: #FFFFFF;\n",
              "    }\n",
              "  </style>\n",
              "\n",
              "      <script>\n",
              "        const buttonEl =\n",
              "          document.querySelector('#df-dca6e969-7de4-4141-ae1c-6ab62e0f1067 button.colab-df-convert');\n",
              "        buttonEl.style.display =\n",
              "          google.colab.kernel.accessAllowed ? 'block' : 'none';\n",
              "\n",
              "        async function convertToInteractive(key) {\n",
              "          const element = document.querySelector('#df-dca6e969-7de4-4141-ae1c-6ab62e0f1067');\n",
              "          const dataTable =\n",
              "            await google.colab.kernel.invokeFunction('convertToInteractive',\n",
              "                                                     [key], {});\n",
              "          if (!dataTable) return;\n",
              "\n",
              "          const docLinkHtml = 'Like what you see? Visit the ' +\n",
              "            '<a target=\"_blank\" href=https://colab.research.google.com/notebooks/data_table.ipynb>data table notebook</a>'\n",
              "            + ' to learn more about interactive tables.';\n",
              "          element.innerHTML = '';\n",
              "          dataTable['output_type'] = 'display_data';\n",
              "          await google.colab.output.renderOutput(dataTable, element);\n",
              "          const docLink = document.createElement('div');\n",
              "          docLink.innerHTML = docLinkHtml;\n",
              "          element.appendChild(docLink);\n",
              "        }\n",
              "      </script>\n",
              "    </div>\n",
              "  </div>\n",
              "  "
            ]
          },
          "metadata": {},
          "execution_count": 93
        }
      ]
    },
    {
      "cell_type": "code",
      "source": [
        "corr = data['cadera'].corr(data['peso'])\n",
        "r_squared = corr ** 2\n",
        "print(\"\", r_squared)"
      ],
      "metadata": {
        "colab": {
          "base_uri": "https://localhost:8080/"
        },
        "id": "qxdr6aylACiu",
        "outputId": "b8b31a20-0946-4a89-d12b-2c16d92f30b5"
      },
      "execution_count": 104,
      "outputs": [
        {
          "output_type": "stream",
          "name": "stdout",
          "text": [
            " 0.6038232783357171\n"
          ]
        }
      ]
    },
    {
      "cell_type": "code",
      "source": [
        "correlation = data['peso'].corr(data['sexo'])\n",
        "print(\"\", correlation)"
      ],
      "metadata": {
        "colab": {
          "base_uri": "https://localhost:8080/"
        },
        "id": "OUWWv-gxALKy",
        "outputId": "5d26d8e4-590c-4188-f298-55bb4b4802bb"
      },
      "execution_count": 98,
      "outputs": [
        {
          "output_type": "stream",
          "name": "stdout",
          "text": [
            " -0.12446065372563182\n"
          ]
        }
      ]
    },
    {
      "cell_type": "code",
      "source": [
        "modelo = sm.formula.ols('cadera ~ peso', data=df).fit()\n",
        "durbin_watson = sm.stats.stattools.durbin_watson(modelo.resid)\n",
        "print(\"\", durbin_watson)"
      ],
      "metadata": {
        "colab": {
          "base_uri": "https://localhost:8080/"
        },
        "id": "9x475AnQRoR6",
        "outputId": "7901ee34-a5da-4b2e-ed7f-fa26de660645"
      },
      "execution_count": 103,
      "outputs": [
        {
          "output_type": "stream",
          "name": "stdout",
          "text": [
            " 2.0015846544838434\n"
          ]
        }
      ]
    },
    {
      "cell_type": "code",
      "source": [
        "modelo = sm.formula.ols('diastol ~ sistol + edad + peso + cintura', data=df).fit()\n",
        "coeficientes = modelo.params\n",
        "print(\"\", coeficientes['cintura'])"
      ],
      "metadata": {
        "colab": {
          "base_uri": "https://localhost:8080/"
        },
        "id": "CM9c-eI_SDX0",
        "outputId": "59f33f5e-118a-4c74-900c-a9d0718d99ee"
      },
      "execution_count": 101,
      "outputs": [
        {
          "output_type": "stream",
          "name": "stdout",
          "text": [
            " 0.02016675116144312\n"
          ]
        }
      ]
    },
    {
      "cell_type": "code",
      "source": [
        "modelo = sm.formula.ols('cadera ~ peso', data=df).fit()\n",
        "residuos = modelo.resid\n",
        "mediana_residuos = np.median(residuos)\n",
        "print(\"\", mediana_residuos)"
      ],
      "metadata": {
        "colab": {
          "base_uri": "https://localhost:8080/"
        },
        "id": "fkWaKBPISTUD",
        "outputId": "d70b0fa5-1fbf-426d-ce8e-947ccb6330e0"
      },
      "execution_count": 102,
      "outputs": [
        {
          "output_type": "stream",
          "name": "stdout",
          "text": [
            " -0.6495739811776744\n"
          ]
        }
      ]
    }
  ]
}